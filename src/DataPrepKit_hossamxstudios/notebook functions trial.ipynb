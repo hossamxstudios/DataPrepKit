{
 "cells": [
  {
   "cell_type": "code",
   "execution_count": 1,
   "id": "3723abb8",
   "metadata": {},
   "outputs": [],
   "source": [
    "import HossamDataPrepKit as hdpk\n"
   ]
  },
  {
   "cell_type": "code",
   "execution_count": 2,
   "id": "81fb80fb",
   "metadata": {},
   "outputs": [],
   "source": [
    "# a window will pop up to select the file\n",
    "# enter the path of the file -> hossam.csv\n",
    "data = hdpk.read_data()\n",
    "\n"
   ]
  },
  {
   "cell_type": "code",
   "execution_count": null,
   "id": "8427c5f6",
   "metadata": {},
   "outputs": [],
   "source": [
    "# to handle the messing data you call this function \n",
    "# this window will pop up to ask you what you want to do with the missing values\n",
    "\n",
    "# What would you like to do with missing values?\n",
    "# 1. Remove rows with missing values\n",
    "# 2. Fill in missing values\n",
    "#enter the option number -> 1\n",
    "#you will get the clean data\n",
    "# enter option number -> 2\n",
    "# this window will pop up to ask you what you want to do with the missing values\n",
    "\n",
    "# Okay! How would you like to fill in the missing values?\n",
    "# 1. Fill numeric columns with the mean\n",
    "# 2. Fill numeric columns with the median\n",
    "# 3. Fill numeric columns with the mode\n",
    "# 4. Fill text columns with the most frequent value\n",
    "# 5. Fill text columns with a constant value\n",
    "## then you will have to choose a number \n",
    "clean_data = hdpk.handle_missing_values(data)"
   ]
  },
  {
   "cell_type": "code",
   "execution_count": null,
   "id": "76f5305a",
   "metadata": {},
   "outputs": [],
   "source": [
    "missing_data = hdpk.check_missing_values(data)\n",
    "# this will output  the missing values in the data\n",
    "# It looks like there are missing values in your data.\n",
    "# Digimon      3\n",
    "# Stage        0\n",
    "# Attribute    1\n",
    "# Memory       1\n",
    "# hp           1\n",
    "# atk          1\n",
    "\n",
    "## and will ask you if you want to handle the missing values\n",
    "# What would you like to do?\n",
    "# 1. Handle missing values\n",
    "# 2. Show only rows with missing values"
   ]
  },
  {
   "cell_type": "code",
   "execution_count": null,
   "id": "43dfe06e",
   "metadata": {},
   "outputs": [],
   "source": [
    "summary = hdpk.calculate_summary_stats(data)\n",
    "# this function will output the summary statistics of the data\n",
    "# and ask you whcih columns you want to see the summary statistics for\n",
    "\n",
    "# Here are the columns in your data:\n",
    "# Index(['Digimon', 'Stage', 'Attribute', 'Memory', 'hp', 'atk'], dtype='object')\n",
    "## you will have to write the column name correctly"
   ]
  },
  {
   "cell_type": "code",
   "execution_count": null,
   "id": "9b13c1ec",
   "metadata": {},
   "outputs": [],
   "source": [
    "decoded_data = hdpk.ordinal_encode(data)\n",
    "#this function will ouput all you columns and ask you to choose the columns you want to encode\n",
    "# Here are the columns in your data:\n",
    "# Digimon\n",
    "# Stage\n",
    "# Attribute\n",
    "# Memory\n",
    "# hp\n",
    "# atk\n",
    "## you will have to write the column name correctly"
   ]
  },
  {
   "cell_type": "code",
   "execution_count": null,
   "id": "ee9519ae",
   "metadata": {},
   "outputs": [],
   "source": []
  },
  {
   "cell_type": "code",
   "execution_count": null,
   "id": "b20814f7",
   "metadata": {},
   "outputs": [],
   "source": []
  },
  {
   "cell_type": "code",
   "execution_count": null,
   "id": "95077329",
   "metadata": {},
   "outputs": [],
   "source": []
  },
  {
   "cell_type": "code",
   "execution_count": null,
   "id": "f1c41c18",
   "metadata": {},
   "outputs": [],
   "source": []
  },
  {
   "cell_type": "code",
   "execution_count": null,
   "id": "99e0172e",
   "metadata": {},
   "outputs": [],
   "source": []
  },
  {
   "cell_type": "code",
   "execution_count": null,
   "id": "61d65013",
   "metadata": {},
   "outputs": [],
   "source": []
  },
  {
   "cell_type": "code",
   "execution_count": null,
   "id": "e1a7d8a2",
   "metadata": {},
   "outputs": [],
   "source": []
  },
  {
   "cell_type": "code",
   "execution_count": null,
   "id": "dd1ea48b",
   "metadata": {},
   "outputs": [],
   "source": []
  },
  {
   "cell_type": "code",
   "execution_count": null,
   "id": "ba51a603",
   "metadata": {},
   "outputs": [],
   "source": []
  },
  {
   "cell_type": "code",
   "execution_count": null,
   "id": "85971b91",
   "metadata": {},
   "outputs": [],
   "source": []
  },
  {
   "cell_type": "code",
   "execution_count": null,
   "id": "19091caf",
   "metadata": {},
   "outputs": [],
   "source": []
  },
  {
   "cell_type": "code",
   "execution_count": null,
   "id": "7f1ada87",
   "metadata": {},
   "outputs": [],
   "source": []
  },
  {
   "cell_type": "code",
   "execution_count": 1,
   "id": "49874f37",
   "metadata": {},
   "outputs": [],
   "source": []
  },
  {
   "cell_type": "code",
   "execution_count": null,
   "id": "a8bc9e73",
   "metadata": {},
   "outputs": [],
   "source": []
  },
  {
   "cell_type": "code",
   "execution_count": null,
   "id": "1326c814",
   "metadata": {},
   "outputs": [],
   "source": []
  },
  {
   "cell_type": "code",
   "execution_count": null,
   "id": "2738c471",
   "metadata": {},
   "outputs": [],
   "source": []
  }
 ],
 "metadata": {
  "kernelspec": {
   "display_name": "Python 3 (ipykernel)",
   "language": "python",
   "name": "python3"
  },
  "language_info": {
   "codemirror_mode": {
    "name": "ipython",
    "version": 3
   },
   "file_extension": ".py",
   "mimetype": "text/x-python",
   "name": "python",
   "nbconvert_exporter": "python",
   "pygments_lexer": "ipython3",
   "version": "3.11.5"
  }
 },
 "nbformat": 4,
 "nbformat_minor": 5
}
